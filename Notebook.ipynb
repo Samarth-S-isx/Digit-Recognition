{
 "cells": [
  {
   "cell_type": "code",
   "execution_count": 1,
   "metadata": {},
   "outputs": [],
   "source": [
    "\n",
    "import numpy as np\n",
    "import numpy\n",
    "import pandas as pd \n",
    "import matplotlib.pyplot as plt\n",
    "from keras.models import Sequential\n",
    "from keras.layers import Dense, Conv2D, Activation, BatchNormalization, MaxPooling2D, Dropout, Flatten, LeakyReLU\n",
    "from keras.utils import np_utils\n",
    "from keras import regularizers, models, layers\n",
    "from sklearn.model_selection import train_test_split"
   ]
  },
  {
   "cell_type": "code",
   "execution_count": 2,
   "metadata": {},
   "outputs": [
    {
     "name": "stdout",
     "output_type": "stream",
     "text": [
      "(42000, 785)\n",
      "(28000, 784)\n"
     ]
    }
   ],
   "source": [
    "train_data = pd.read_csv('train.csv')\n",
    "test_data = pd.read_csv('test.csv')\n",
    "print(train_data.shape)\n",
    "print(test_data.shape)"
   ]
  },
  {
   "cell_type": "code",
   "execution_count": 3,
   "metadata": {},
   "outputs": [],
   "source": [
    "x_train = train_data.iloc[:,1:]\n",
    "y_train = train_data.iloc[:,:1]"
   ]
  },
  {
   "cell_type": "code",
   "execution_count": 4,
   "metadata": {},
   "outputs": [],
   "source": [
    "x_train = x_train/255\n",
    "x_train = x_train.to_numpy().reshape(-1,28,28,1)"
   ]
  },
  {
   "cell_type": "code",
   "execution_count": 5,
   "metadata": {},
   "outputs": [],
   "source": [
    "y_train = np_utils.to_categorical(y_train,10)  "
   ]
  },
  {
   "cell_type": "code",
   "execution_count": 6,
   "metadata": {},
   "outputs": [
    {
     "name": "stdout",
     "output_type": "stream",
     "text": [
      "(42000, 28, 28, 1)\n",
      "(42000, 10)\n"
     ]
    }
   ],
   "source": [
    "test_data = test_data/255\n",
    "test_data = test_data.to_numpy().reshape(-1,28,28,1)\n",
    "print(x_train.shape)\n",
    "print(y_train.shape)"
   ]
  },
  {
   "cell_type": "code",
   "execution_count": 7,
   "metadata": {},
   "outputs": [],
   "source": [
    "x_train, x_val, y_train, y_val = train_test_split(x_train,y_train, test_size = 0.10, random_state=42 )"
   ]
  },
  {
   "cell_type": "code",
   "execution_count": 8,
   "metadata": {},
   "outputs": [
    {
     "name": "stdout",
     "output_type": "stream",
     "text": [
      "(37800, 28, 28, 1)\n",
      "(4200, 28, 28, 1)\n",
      "(37800, 10)\n",
      "(4200, 10)\n"
     ]
    }
   ],
   "source": [
    "print(x_train.shape) \n",
    "print(x_val.shape)\n",
    "print(y_train.shape) \n",
    "print(y_val.shape)"
   ]
  },
  {
   "cell_type": "code",
   "execution_count": 9,
   "metadata": {},
   "outputs": [
    {
     "data": {
      "image/png": "[encoded data removed]",
      "text/plain": [
       "<Figure size 432x288 with 1 Axes>"
      ]
     },
     "metadata": {
      "needs_background": "light"
     },
     "output_type": "display_data"
    },
    {
     "name": "stdout",
     "output_type": "stream",
     "text": [
      "(28, 28)\n",
      "4\n"
     ]
    }
   ],
   "source": [
    "a = np.array(x_train[1900], dtype='float').reshape((28,28))\n",
    "plt.imshow(a)\n",
    "plt.show()\n",
    "print(a.shape)\n",
    "print(numpy.argmax(y_train[1900], axis=0))"
   ]
  },
  {
   "cell_type": "code",
   "execution_count": 10,
   "metadata": {},
   "outputs": [],
   "source": [
    "# model=models.Sequential([\n",
    "                     \n",
    "#                      #cnn\n",
    "#                     layers.Conv2D(30,(3,3),activation=\"relu\",input_shape=(28,28,1)),\n",
    "#                     layers.MaxPooling2D((2,2)),\n",
    "     \n",
    "#                     layers.Conv2D(64,(3,3),activation=\"relu\"),\n",
    "#                     layers.MaxPooling2D((2,2)),\n",
    "#                      #dense_layer\n",
    "#                      layers.Flatten(),\n",
    "#                      layers.Dense(64,activation=\"relu\"),\n",
    "#                      layers.Dense(10,activation=\"softmax\")\n",
    "# ]\n",
    "# )"
   ]
  },
  {
   "cell_type": "code",
   "execution_count": 11,
   "metadata": {},
   "outputs": [],
   "source": [
    "model = Sequential([\n",
    "        # Layer 1\n",
    "    Conv2D(filters = 32, kernel_size = 5, strides = 1, padding='same',activation = \"relu\", input_shape = (28,28,1), kernel_regularizer=regularizers.l2(0.0005)),# Layer 2\n",
    "    Conv2D(filters = 32, kernel_size = 5, strides = 1, padding='same',use_bias=False),# Layer 3\n",
    "    BatchNormalization(),# — — — — — — — — — — — — — — — — #\n",
    "    Activation(\"relu\"),\n",
    "    MaxPooling2D(pool_size = 2, strides = 2),\n",
    "    Dropout(0.25),\n",
    "    # — — — — — — — — — — — — — — — — ## Layer 3\n",
    "    Conv2D(filters = 64, kernel_size = 3, strides = 1, padding='same',activation = \"relu\", kernel_regularizer=regularizers.l2(0.0005)),# Layer 4\n",
    "    Conv2D(filters = 64, kernel_size = 3, strides = 1, padding='same',use_bias=False),# Layer 5\n",
    "    BatchNormalization(),# — — — — — — — — — — — — — — — — #\n",
    "    Activation(\"relu\"),\n",
    "    MaxPooling2D(pool_size = 2, strides = 2),\n",
    "    Dropout(0.25),\n",
    "    Flatten(),\n",
    "    # — — — — — — — — — — — — — — — — ## Layer 6\n",
    "    Dense(units = 256, use_bias=False),# Layer 7\n",
    "    BatchNormalization(),# — — — — — — — — — — — — — — — — #\n",
    "    Activation(\"relu\"),\n",
    "    # — — — — — — — — — — — — — — — — ## Layer 8\n",
    "    Dense(units = 128, use_bias=False),# Layer 9\n",
    "    BatchNormalization(),# — — — — — — — — — — — — — — — — #\n",
    "    Activation(\"relu\"),\n",
    "    # — — — — — — — — — — — — — — — — ## Layer 10\n",
    "    Dense(units = 84, use_bias=False),# Layer 11\n",
    "    BatchNormalization(),# — — — — — — — — — — — — — — — — #\n",
    "    Activation(\"relu\"),\n",
    "    Dropout(0.25),\n",
    "    # — — — — — — — — — — — — — — — — ## Output\n",
    "Dense(units = 10, activation = \"softmax\")])"
   ]
  },
  {
   "cell_type": "code",
   "execution_count": 13,
   "metadata": {},
   "outputs": [],
   "source": [
    "model.compile(\n",
    "            optimizer = \"adam\",\n",
    "            loss =\"categorical_crossentropy\",\n",
    "            metrics =[\"accuracy\"]\n",
    "\n",
    ")"
   ]
  },
  {
   "cell_type": "code",
   "execution_count": 14,
   "metadata": {},
   "outputs": [
    {
     "name": "stdout",
     "output_type": "stream",
     "text": [
      "Epoch 1/40\n",
      "3780/3780 [==============================] - 201s 53ms/step - loss: 0.3167 - accuracy: 0.9131 - val_loss: 0.0974 - val_accuracy: 0.9762\n",
      "Epoch 2/40\n",
      "3780/3780 [==============================] - 201s 53ms/step - loss: 0.1634 - accuracy: 0.9579 - val_loss: 0.0885 - val_accuracy: 0.9771\n",
      "Epoch 3/40\n",
      "3780/3780 [==============================] - 192s 51ms/step - loss: 0.1252 - accuracy: 0.9689 - val_loss: 0.0650 - val_accuracy: 0.9886\n",
      "Epoch 4/40\n",
      "3780/3780 [==============================] - 208s 55ms/step - loss: 0.1079 - accuracy: 0.9748 - val_loss: 0.0564 - val_accuracy: 0.9900\n",
      "Epoch 5/40\n",
      "3780/3780 [==============================] - 178s 47ms/step - loss: 0.0934 - accuracy: 0.9774 - val_loss: 0.0465 - val_accuracy: 0.9910\n",
      "Epoch 6/40\n",
      "3780/3780 [==============================] - 178s 47ms/step - loss: 0.0897 - accuracy: 0.9786 - val_loss: 0.0508 - val_accuracy: 0.9886\n",
      "Epoch 7/40\n",
      "3780/3780 [==============================] - 181s 48ms/step - loss: 0.0821 - accuracy: 0.9820 - val_loss: 0.0478 - val_accuracy: 0.9893\n",
      "Epoch 8/40\n",
      "3780/3780 [==============================] - 180s 48ms/step - loss: 0.0781 - accuracy: 0.9819 - val_loss: 0.0461 - val_accuracy: 0.9905\n",
      "Epoch 9/40\n",
      "3780/3780 [==============================] - 184s 49ms/step - loss: 0.0726 - accuracy: 0.9830 - val_loss: 0.0521 - val_accuracy: 0.9888\n",
      "Epoch 10/40\n",
      "3780/3780 [==============================] - 186s 49ms/step - loss: 0.0669 - accuracy: 0.9852 - val_loss: 0.0427 - val_accuracy: 0.9905\n",
      "Epoch 11/40\n",
      "3780/3780 [==============================] - 179s 47ms/step - loss: 0.0625 - accuracy: 0.9856 - val_loss: 0.0496 - val_accuracy: 0.9902\n",
      "Epoch 12/40\n",
      "3780/3780 [==============================] - 179s 47ms/step - loss: 0.0612 - accuracy: 0.9859 - val_loss: 0.0433 - val_accuracy: 0.9917\n",
      "Epoch 13/40\n",
      "3780/3780 [==============================] - 181s 48ms/step - loss: 0.0571 - accuracy: 0.9877 - val_loss: 0.0374 - val_accuracy: 0.9924\n",
      "Epoch 14/40\n",
      "3780/3780 [==============================] - 181s 48ms/step - loss: 0.0568 - accuracy: 0.9879 - val_loss: 0.0447 - val_accuracy: 0.9914\n",
      "Epoch 15/40\n",
      "3780/3780 [==============================] - 183s 48ms/step - loss: 0.0525 - accuracy: 0.9880 - val_loss: 0.0381 - val_accuracy: 0.9919\n",
      "Epoch 16/40\n",
      "3780/3780 [==============================] - 185s 49ms/step - loss: 0.0524 - accuracy: 0.9885 - val_loss: 0.0418 - val_accuracy: 0.9924\n",
      "Epoch 17/40\n",
      "3780/3780 [==============================] - 186s 49ms/step - loss: 0.0502 - accuracy: 0.9892 - val_loss: 0.0434 - val_accuracy: 0.9926\n",
      "Epoch 18/40\n",
      "3780/3780 [==============================] - 184s 49ms/step - loss: 0.0523 - accuracy: 0.9885 - val_loss: 0.0375 - val_accuracy: 0.9940\n",
      "Epoch 19/40\n",
      "3780/3780 [==============================] - 178s 47ms/step - loss: 0.0511 - accuracy: 0.9897 - val_loss: 0.0352 - val_accuracy: 0.9931\n",
      "Epoch 20/40\n",
      "3780/3780 [==============================] - 180s 48ms/step - loss: 0.0482 - accuracy: 0.9901 - val_loss: 0.0424 - val_accuracy: 0.9914\n",
      "Epoch 21/40\n",
      "3780/3780 [==============================] - 183s 48ms/step - loss: 0.0447 - accuracy: 0.9905 - val_loss: 0.0469 - val_accuracy: 0.9912\n",
      "Epoch 22/40\n",
      "3780/3780 [==============================] - 183s 49ms/step - loss: 0.0459 - accuracy: 0.9908 - val_loss: 0.0457 - val_accuracy: 0.9921\n",
      "Epoch 23/40\n",
      "3780/3780 [==============================] - 180s 48ms/step - loss: 0.0452 - accuracy: 0.9908 - val_loss: 0.0450 - val_accuracy: 0.9910\n",
      "Epoch 24/40\n",
      "3780/3780 [==============================] - 169s 45ms/step - loss: 0.0464 - accuracy: 0.9907 - val_loss: 0.0373 - val_accuracy: 0.9931\n",
      "Epoch 25/40\n",
      "3780/3780 [==============================] - 167s 44ms/step - loss: 0.0429 - accuracy: 0.9916 - val_loss: 0.0446 - val_accuracy: 0.9917\n",
      "Epoch 26/40\n",
      "3780/3780 [==============================] - 174s 46ms/step - loss: 0.0449 - accuracy: 0.9909 - val_loss: 0.0374 - val_accuracy: 0.9924\n",
      "Epoch 27/40\n",
      "3780/3780 [==============================] - 181s 48ms/step - loss: 0.0421 - accuracy: 0.9914 - val_loss: 0.0409 - val_accuracy: 0.9917\n",
      "Epoch 28/40\n",
      "3780/3780 [==============================] - 180s 48ms/step - loss: 0.0413 - accuracy: 0.9913 - val_loss: 0.0400 - val_accuracy: 0.9926\n",
      "Epoch 29/40\n",
      "3780/3780 [==============================] - 179s 47ms/step - loss: 0.0389 - accuracy: 0.9921 - val_loss: 0.0394 - val_accuracy: 0.9919\n",
      "Epoch 30/40\n",
      "3780/3780 [==============================] - 180s 48ms/step - loss: 0.0408 - accuracy: 0.9921 - val_loss: 0.0379 - val_accuracy: 0.9929\n",
      "Epoch 31/40\n",
      "3780/3780 [==============================] - 181s 48ms/step - loss: 0.0391 - accuracy: 0.9930 - val_loss: 0.0405 - val_accuracy: 0.9907\n",
      "Epoch 32/40\n",
      "3780/3780 [==============================] - 180s 48ms/step - loss: 0.0386 - accuracy: 0.9917 - val_loss: 0.0366 - val_accuracy: 0.9936\n",
      "Epoch 33/40\n",
      "3780/3780 [==============================] - 182s 48ms/step - loss: 0.0370 - accuracy: 0.9922 - val_loss: 0.0467 - val_accuracy: 0.9907\n",
      "Epoch 34/40\n",
      "3780/3780 [==============================] - 182s 48ms/step - loss: 0.0366 - accuracy: 0.9928 - val_loss: 0.0333 - val_accuracy: 0.9933\n",
      "Epoch 35/40\n",
      "3780/3780 [==============================] - 182s 48ms/step - loss: 0.0334 - accuracy: 0.9937 - val_loss: 0.0342 - val_accuracy: 0.9940\n",
      "Epoch 36/40\n",
      "3780/3780 [==============================] - 174s 46ms/step - loss: 0.0373 - accuracy: 0.9929 - val_loss: 0.0378 - val_accuracy: 0.9929\n",
      "Epoch 37/40\n",
      "3780/3780 [==============================] - 181s 48ms/step - loss: 0.0373 - accuracy: 0.9927 - val_loss: 0.0390 - val_accuracy: 0.9929\n",
      "Epoch 38/40\n",
      "3780/3780 [==============================] - 184s 49ms/step - loss: 0.0350 - accuracy: 0.9932 - val_loss: 0.0398 - val_accuracy: 0.9929\n",
      "Epoch 39/40\n",
      "3780/3780 [==============================] - 184s 49ms/step - loss: 0.0350 - accuracy: 0.9930 - val_loss: 0.0512 - val_accuracy: 0.9924\n",
      "Epoch 40/40\n",
      "3780/3780 [==============================] - 182s 48ms/step - loss: 0.0386 - accuracy: 0.9927 - val_loss: 0.0371 - val_accuracy: 0.9933\n"
     ]
    }
   ],
   "source": [
    "history = model.fit(x_train, y_train, validation_data=(x_val, y_val), epochs=40, batch_size=10)"
   ]
  },
  {
   "cell_type": "code",
   "execution_count": 15,
   "metadata": {},
   "outputs": [
    {
     "name": "stdout",
     "output_type": "stream",
     "text": [
      "Accuracy: 99.3333\n"
     ]
    },
    {
     "data": {
      "image/png": "[encoded data removed]",
      "text/plain": [
       "<Figure size 432x288 with 1 Axes>"
      ]
     },
     "metadata": {
      "needs_background": "light"
     },
     "output_type": "display_data"
    }
   ],
   "source": [
    "plt.plot(history.history['accuracy'], label='accuracy')\n",
    "plt.plot(history.history['val_accuracy'], label = 'val_accuracy')\n",
    "plt.xlabel('Epoch')\n",
    "plt.ylabel('Accuracy')\n",
    "plt.ylim([0.9, 1])\n",
    "plt.legend(loc='lower right')\n",
    "\n",
    "test_loss, test_acc = model.evaluate(x_val,  y_val, verbose=0)\n",
    "print('Accuracy: %.4f' % (test_acc * 100.0))"
   ]
  },
  {
   "cell_type": "code",
   "execution_count": null,
   "metadata": {},
   "outputs": [],
   "source": []
  }
 ],
 "metadata": {
  "kernelspec": {
   "display_name": "Python 3.10.5 64-bit",
   "language": "python",
   "name": "python3"
  },
  "language_info": {
   "codemirror_mode": {
    "name": "ipython",
    "version": 3
   },
   "file_extension": ".py",
   "mimetype": "text/x-python",
   "name": "python",
   "nbconvert_exporter": "python",
   "pygments_lexer": "ipython3",
   "version": "3.10.5"
  },
  "orig_nbformat": 4,
  "vscode": {
   "interpreter": {
    "hash": "26de051ba29f2982a8de78e945f0abaf191376122a1563185a90213a26c5da77"
   }
  }
 },
 "nbformat": 4,
 "nbformat_minor": 2
}
